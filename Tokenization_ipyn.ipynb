{
  "nbformat": 4,
  "nbformat_minor": 0,
  "metadata": {
    "colab": {
      "provenance": [],
      "authorship_tag": "ABX9TyOLjldcJX6uLTovrFulc98n"
    },
    "kernelspec": {
      "name": "python3",
      "display_name": "Python 3"
    },
    "language_info": {
      "name": "python"
    }
  },
  "cells": [
    {
      "cell_type": "code",
      "source": [
        "! pip install nltk"
      ],
      "metadata": {
        "colab": {
          "base_uri": "https://localhost:8080/"
        },
        "id": "s87fdTdf5m1q",
        "outputId": "ce7f5f31-a21f-4b37-eeaa-c1ba22f91cf7"
      },
      "execution_count": 6,
      "outputs": [
        {
          "output_type": "stream",
          "name": "stdout",
          "text": [
            "Requirement already satisfied: nltk in /usr/local/lib/python3.10/dist-packages (3.8.1)\n",
            "Requirement already satisfied: click in /usr/local/lib/python3.10/dist-packages (from nltk) (8.1.7)\n",
            "Requirement already satisfied: joblib in /usr/local/lib/python3.10/dist-packages (from nltk) (1.4.2)\n",
            "Requirement already satisfied: regex>=2021.8.3 in /usr/local/lib/python3.10/dist-packages (from nltk) (2024.5.15)\n",
            "Requirement already satisfied: tqdm in /usr/local/lib/python3.10/dist-packages (from nltk) (4.66.5)\n"
          ]
        }
      ]
    },
    {
      "cell_type": "code",
      "execution_count": 22,
      "metadata": {
        "colab": {
          "base_uri": "https://localhost:8080/"
        },
        "id": "V7WGyi5n0eMK",
        "outputId": "c6097eb6-edf3-4408-b398-e403d2e018f2"
      },
      "outputs": [
        {
          "output_type": "stream",
          "name": "stderr",
          "text": [
            "[nltk_data] Downloading package punkt to /root/nltk_data...\n",
            "[nltk_data]   Package punkt is already up-to-date!\n"
          ]
        }
      ],
      "source": [
        "nltk.download('punkt')\n",
        "import nltk\n",
        "from nltk.tokenize import word_tokenize,sent_tokenize,wordpunct_tokenize,TreebankWordTokenizer\n"
      ]
    },
    {
      "cell_type": "code",
      "source": [
        "corpus=\"\"\"\n",
        "Who is an automobile engineer and what do they do in their profession What are the main responsibilities of an automobile engineer?\n",
        "What are the key skills and qualifications required to become an automobile engineer. How can I pursue a career in automobile engineering and what are the educational requirements?\n",
        "What are the career prospects for automobile engineers in the automotive industry, What is the average salary range for automobile engineers in India?\n",
        "\"\"\""
      ],
      "metadata": {
        "id": "ze7S4nHq3Vlv"
      },
      "execution_count": 9,
      "outputs": []
    },
    {
      "cell_type": "code",
      "source": [
        "sents=sent_tokenize(corpus)\n",
        "sents"
      ],
      "metadata": {
        "colab": {
          "base_uri": "https://localhost:8080/"
        },
        "id": "r2AEzFeF5SGS",
        "outputId": "e51c7bb2-3fee-460a-ae19-dad1604b92e8"
      },
      "execution_count": 10,
      "outputs": [
        {
          "output_type": "execute_result",
          "data": {
            "text/plain": [
              "['\\nWho is an automobile engineer and what do they do in their profession What are the main responsibilities of an automobile engineer?',\n",
              " 'What are the key skills and qualifications required to become an automobile engineer.',\n",
              " 'How can I pursue a career in automobile engineering and what are the educational requirements?',\n",
              " 'What are the career prospects for automobile engineers in the automotive industry, What is the average salary range for automobile engineers in India?']"
            ]
          },
          "metadata": {},
          "execution_count": 10
        }
      ]
    },
    {
      "cell_type": "markdown",
      "source": [
        "Tokenizes words splitting 'm to  \" 'm \""
      ],
      "metadata": {
        "id": "H38h8LVfE6c-"
      }
    },
    {
      "cell_type": "code",
      "source": [
        "for sent in sents:\n",
        "  print(word_tokenize(sent))"
      ],
      "metadata": {
        "colab": {
          "base_uri": "https://localhost:8080/"
        },
        "id": "JmatvBKBBAVQ",
        "outputId": "399b13e9-e26b-4ccc-cacd-bcfdd625ca33"
      },
      "execution_count": 25,
      "outputs": [
        {
          "output_type": "stream",
          "name": "stdout",
          "text": [
            "['Who', 'is', 'an', 'automobile', 'engineer', 'and', 'what', 'do', 'they', 'do', 'in', 'their', 'profession', 'What', 'are', 'the', 'main', 'responsibilities', 'of', 'an', 'automobile', 'engineer', '?']\n",
            "['What', 'are', 'the', 'key', 'skills', 'and', 'qualifications', 'required', 'to', 'become', 'an', 'automobile', 'engineer', '.']\n",
            "['How', 'can', 'I', 'pursue', 'a', 'career', 'in', 'automobile', 'engineering', 'and', 'what', 'are', 'the', 'educational', 'requirements', '?']\n",
            "['What', 'are', 'the', 'career', 'prospects', 'for', 'automobile', 'engineers', 'in', 'the', 'automotive', 'industry', ',', 'What', 'is', 'the', 'average', 'salary', 'range', 'for', 'automobile', 'engineers', 'in', 'India', '?']\n"
          ]
        }
      ]
    },
    {
      "cell_type": "markdown",
      "source": [
        "Tokenizes special symbols and punctuations too splitting 'm    to \" ' \" and \"m\""
      ],
      "metadata": {
        "id": "KjLr3jo4DvT5"
      }
    },
    {
      "cell_type": "code",
      "source": [
        "for sent in sents:\n",
        "  print(wordpunct_tokenize(sent))"
      ],
      "metadata": {
        "colab": {
          "base_uri": "https://localhost:8080/"
        },
        "id": "Y83ROYuWCrM_",
        "outputId": "0a829bef-4044-4aa3-f356-c79391817de7"
      },
      "execution_count": 26,
      "outputs": [
        {
          "output_type": "stream",
          "name": "stdout",
          "text": [
            "['Who', 'is', 'an', 'automobile', 'engineer', 'and', 'what', 'do', 'they', 'do', 'in', 'their', 'profession', 'What', 'are', 'the', 'main', 'responsibilities', 'of', 'an', 'automobile', 'engineer', '?']\n",
            "['What', 'are', 'the', 'key', 'skills', 'and', 'qualifications', 'required', 'to', 'become', 'an', 'automobile', 'engineer', '.']\n",
            "['How', 'can', 'I', 'pursue', 'a', 'career', 'in', 'automobile', 'engineering', 'and', 'what', 'are', 'the', 'educational', 'requirements', '?']\n",
            "['What', 'are', 'the', 'career', 'prospects', 'for', 'automobile', 'engineers', 'in', 'the', 'automotive', 'industry', ',', 'What', 'is', 'the', 'average', 'salary', 'range', 'for', 'automobile', 'engineers', 'in', 'India', '?']\n"
          ]
        }
      ]
    },
    {
      "cell_type": "markdown",
      "source": [
        "**Full stop will not  be treated as a new word( bound with previous word). Except the last fullstop.**"
      ],
      "metadata": {
        "id": "-3y8KHl-Dfe5"
      }
    },
    {
      "cell_type": "code",
      "source": [
        "Tree=TreebankWordTokenizer()\n",
        "for sent in sents:\n",
        "  print(Tree.tokenize(sent))"
      ],
      "metadata": {
        "colab": {
          "base_uri": "https://localhost:8080/"
        },
        "id": "oM6VhMouCw5P",
        "outputId": "3e51aa22-2b2b-4837-eaf2-9dcc6ae1e7d2"
      },
      "execution_count": 24,
      "outputs": [
        {
          "output_type": "stream",
          "name": "stdout",
          "text": [
            "['Who', 'is', 'an', 'automobile', 'engineer', 'and', 'what', 'do', 'they', 'do', 'in', 'their', 'profession', 'What', 'are', 'the', 'main', 'responsibilities', 'of', 'an', 'automobile', 'engineer', '?']\n",
            "['What', 'are', 'the', 'key', 'skills', 'and', 'qualifications', 'required', 'to', 'become', 'an', 'automobile', 'engineer', '.']\n",
            "['How', 'can', 'I', 'pursue', 'a', 'career', 'in', 'automobile', 'engineering', 'and', 'what', 'are', 'the', 'educational', 'requirements', '?']\n",
            "['What', 'are', 'the', 'career', 'prospects', 'for', 'automobile', 'engineers', 'in', 'the', 'automotive', 'industry', ',', 'What', 'is', 'the', 'average', 'salary', 'range', 'for', 'automobile', 'engineers', 'in', 'India', '?']\n"
          ]
        }
      ]
    },
    {
      "cell_type": "code",
      "source": [
        "words=word_tokenize(corpus)\n",
        "words"
      ],
      "metadata": {
        "colab": {
          "base_uri": "https://localhost:8080/"
        },
        "id": "VP-48MG158Bz",
        "outputId": "4107f8c5-526b-461c-cd59-f4d591d2b3c5"
      },
      "execution_count": 15,
      "outputs": [
        {
          "output_type": "execute_result",
          "data": {
            "text/plain": [
              "['Who',\n",
              " 'is',\n",
              " 'an',\n",
              " 'automobile',\n",
              " 'engineer',\n",
              " 'and',\n",
              " 'what',\n",
              " 'do',\n",
              " 'they',\n",
              " 'do',\n",
              " 'in',\n",
              " 'their',\n",
              " 'profession',\n",
              " 'What',\n",
              " 'are',\n",
              " 'the',\n",
              " 'main',\n",
              " 'responsibilities',\n",
              " 'of',\n",
              " 'an',\n",
              " 'automobile',\n",
              " 'engineer',\n",
              " '?',\n",
              " 'What',\n",
              " 'are',\n",
              " 'the',\n",
              " 'key',\n",
              " 'skills',\n",
              " 'and',\n",
              " 'qualifications',\n",
              " 'required',\n",
              " 'to',\n",
              " 'become',\n",
              " 'an',\n",
              " 'automobile',\n",
              " 'engineer',\n",
              " '.',\n",
              " 'How',\n",
              " 'can',\n",
              " 'I',\n",
              " 'pursue',\n",
              " 'a',\n",
              " 'career',\n",
              " 'in',\n",
              " 'automobile',\n",
              " 'engineering',\n",
              " 'and',\n",
              " 'what',\n",
              " 'are',\n",
              " 'the',\n",
              " 'educational',\n",
              " 'requirements',\n",
              " '?',\n",
              " 'What',\n",
              " 'are',\n",
              " 'the',\n",
              " 'career',\n",
              " 'prospects',\n",
              " 'for',\n",
              " 'automobile',\n",
              " 'engineers',\n",
              " 'in',\n",
              " 'the',\n",
              " 'automotive',\n",
              " 'industry',\n",
              " ',',\n",
              " 'What',\n",
              " 'is',\n",
              " 'the',\n",
              " 'average',\n",
              " 'salary',\n",
              " 'range',\n",
              " 'for',\n",
              " 'automobile',\n",
              " 'engineers',\n",
              " 'in',\n",
              " 'India',\n",
              " '?']"
            ]
          },
          "metadata": {},
          "execution_count": 15
        }
      ]
    }
  ]
}