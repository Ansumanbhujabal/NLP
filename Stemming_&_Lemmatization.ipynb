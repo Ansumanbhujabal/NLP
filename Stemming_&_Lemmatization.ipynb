{
  "nbformat": 4,
  "nbformat_minor": 0,
  "metadata": {
    "colab": {
      "provenance": [],
      "authorship_tag": "ABX9TyPQwiDIq0cSSi1fqMlvrV3T"
    },
    "kernelspec": {
      "name": "python3",
      "display_name": "Python 3"
    },
    "language_info": {
      "name": "python"
    }
  },
  "cells": [
    {
      "cell_type": "code",
      "execution_count": null,
      "metadata": {
        "colab": {
          "base_uri": "https://localhost:8080/"
        },
        "id": "2It92IVHRkGL",
        "outputId": "f7d3049f-7d08-42ca-d9f8-037ec4281ebd"
      },
      "outputs": [
        {
          "output_type": "stream",
          "name": "stdout",
          "text": [
            "Requirement already satisfied: nltk in /usr/local/lib/python3.10/dist-packages (3.8.1)\n",
            "Requirement already satisfied: click in /usr/local/lib/python3.10/dist-packages (from nltk) (8.1.7)\n",
            "Requirement already satisfied: joblib in /usr/local/lib/python3.10/dist-packages (from nltk) (1.4.2)\n",
            "Requirement already satisfied: regex>=2021.8.3 in /usr/local/lib/python3.10/dist-packages (from nltk) (2024.5.15)\n",
            "Requirement already satisfied: tqdm in /usr/local/lib/python3.10/dist-packages (from nltk) (4.66.5)\n"
          ]
        },
        {
          "output_type": "stream",
          "name": "stderr",
          "text": [
            "[nltk_data] Downloading package punkt to /root/nltk_data...\n",
            "[nltk_data]   Unzipping tokenizers/punkt.zip.\n",
            "[nltk_data] Downloading package wordnet to /root/nltk_data...\n",
            "[nltk_data] Downloading package stopwords to /root/nltk_data...\n",
            "[nltk_data]   Unzipping corpora/stopwords.zip.\n"
          ]
        }
      ],
      "source": [
        "!pip install nltk\n",
        "import nltk\n",
        "nltk.download('punkt')\n",
        "nltk.download('wordnet')\n",
        "nltk.download('stopwords')\n",
        "from nltk.stem import PorterStemmer,SnowballStemmer,RegexpStemmer\n",
        "porter_stemmer= PorterStemmer()\n",
        "regex_stemmer = RegexpStemmer('ing$|s$|e$|able$', min=4)\n",
        "snowball_stemmer = SnowballStemmer(\"english\")"
      ]
    },
    {
      "cell_type": "code",
      "source": [
        "words=['write','written','writing','wrote']"
      ],
      "metadata": {
        "id": "opDMemKwStOU"
      },
      "execution_count": null,
      "outputs": []
    },
    {
      "cell_type": "markdown",
      "source": [
        "# **PorterStemmer**"
      ],
      "metadata": {
        "id": "B5S6ZsD3UOb5"
      }
    },
    {
      "cell_type": "code",
      "source": [
        "for word in words:\n",
        "  print(porter_stemmer.stem(word))"
      ],
      "metadata": {
        "colab": {
          "base_uri": "https://localhost:8080/"
        },
        "id": "hPUd7sK5TUbL",
        "outputId": "9b39aefa-7af6-4838-cadd-2e03802e3d2c"
      },
      "execution_count": null,
      "outputs": [
        {
          "output_type": "stream",
          "name": "stdout",
          "text": [
            "write\n",
            "written\n",
            "write\n",
            "wrote\n"
          ]
        }
      ]
    },
    {
      "cell_type": "markdown",
      "source": [
        "# **RegexpStemmer**"
      ],
      "metadata": {
        "id": "4PYfS3YZUUZC"
      }
    },
    {
      "cell_type": "code",
      "source": [
        "for word in words:\n",
        "  print(regex_stemmer.stem(word))"
      ],
      "metadata": {
        "colab": {
          "base_uri": "https://localhost:8080/"
        },
        "id": "WXoa5TENTeVU",
        "outputId": "50e29d73-5b75-4776-af66-ca0ca329b313"
      },
      "execution_count": null,
      "outputs": [
        {
          "output_type": "stream",
          "name": "stdout",
          "text": [
            "writ\n",
            "written\n",
            "writ\n",
            "wrot\n"
          ]
        }
      ]
    },
    {
      "cell_type": "markdown",
      "source": [
        "# **SnowballStemmer**"
      ],
      "metadata": {
        "id": "BHI4LRt8UXlC"
      }
    },
    {
      "cell_type": "code",
      "source": [
        "for word in words:\n",
        "  print(snowball_stemmer.stem(\"congratulation\"))"
      ],
      "metadata": {
        "colab": {
          "base_uri": "https://localhost:8080/"
        },
        "id": "ktcp67YHTj0M",
        "outputId": "18567f50-e477-429f-fd10-dc690402785b"
      },
      "execution_count": null,
      "outputs": [
        {
          "output_type": "stream",
          "name": "stdout",
          "text": [
            "congratul\n",
            "congratul\n",
            "congratul\n",
            "congratul\n"
          ]
        }
      ]
    },
    {
      "cell_type": "markdown",
      "source": [
        "# **Lemmatization**"
      ],
      "metadata": {
        "id": "mZ5TDJxLdsrc"
      }
    },
    {
      "cell_type": "code",
      "source": [
        "from nltk.stem import WordNetLemmatizer\n",
        "lemmatizer = WordNetLemmatizer()"
      ],
      "metadata": {
        "id": "3UkNSd4ud7eY"
      },
      "execution_count": null,
      "outputs": []
    },
    {
      "cell_type": "code",
      "source": [
        "for word in words:\n",
        "  print(lemmatizer.lemmatize(word,pos='v'))"
      ],
      "metadata": {
        "colab": {
          "base_uri": "https://localhost:8080/"
        },
        "id": "bxo7YZJLd_1X",
        "outputId": "776d3692-05dd-4188-8589-578388a79603"
      },
      "execution_count": null,
      "outputs": [
        {
          "output_type": "stream",
          "name": "stdout",
          "text": [
            "write\n",
            "write\n",
            "write\n",
            "write\n"
          ]
        }
      ]
    }
  ]
}